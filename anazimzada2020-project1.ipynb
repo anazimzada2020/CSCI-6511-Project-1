{
 "cells": [
  {
   "cell_type": "code",
   "execution_count": 1,
   "metadata": {},
   "outputs": [],
   "source": [
    "import math\n",
    "import time\n",
    "import heapq"
   ]
  },
  {
   "cell_type": "code",
   "execution_count": 2,
   "metadata": {},
   "outputs": [],
   "source": [
    "# Initialization function. Takes 6 arguments\n",
    "# Number of Vertices, Start node, Finish node, Mode (U for Uninformed, I for Informed), Vertices txt file, Edges txt file\n",
    "\n",
    "def init(no_vertices, start, finish, mode, file_vertices, file_edges):\n",
    "    if mode.upper() != 'U' and mode.upper() != 'I':\n",
    "        print(\"Wrong search algorithm chosen!\")\n",
    "        exit()\n",
    "    return no_vertices, start, finish, mode, file_vertices, file_edges"
   ]
  },
  {
   "cell_type": "code",
   "execution_count": 3,
   "metadata": {},
   "outputs": [],
   "source": [
    "# Euclidean function for heuristic of Informed (A*) Search\n",
    "# Takes 4 arguments; Vertices list, Current node, Finish node, and Mode\n",
    "# If it is Uninformed Search, it simply returns 0\n",
    "# If it is Informed Search, it calculates and returns Euclidean distance\n",
    "\n",
    "def Euclidean(v, a, b, mode):\n",
    "    if mode.upper() == 'U':\n",
    "        return 0\n",
    "    elif mode.upper() == 'I':\n",
    "        x = abs(v[a][1] - v[b][1])\n",
    "        y = abs(v[a][0] - v[b][0])\n",
    "        return math.sqrt(pow(x, 2) + pow(y, 2)) * 100"
   ]
  },
  {
   "cell_type": "code",
   "execution_count": 4,
   "metadata": {},
   "outputs": [],
   "source": [
    "# Function that generates graph. It reads vetices and edges txt files, split them and store them\n",
    "# Dictionaty \"g\" is our graph that stores our nodes, their edges with edge cost and new node's cost (f(n) = g(n) + h(n))\n",
    "\n",
    "def gen_graph():\n",
    "    file1 = open(file_v, 'r')\n",
    "    file2 = open(file_e, 'r')\n",
    "    vertices = file1.readlines()\n",
    "    edges = file2.readlines()\n",
    "\n",
    "    v = list()\n",
    "    h = list()\n",
    "\n",
    "    for i in range(0, n):\n",
    "        v.append(i)\n",
    "        h.append(i)\n",
    "\n",
    "    for line in vertices:\n",
    "        if line[0] != \"#\":\n",
    "            x = line.strip().split(\",\")\n",
    "            v[int(x[0])] = [int(int(x[1]) / 10), int(x[1]) % 10]\n",
    "\n",
    "    for i in range(n):\n",
    "        h[i] = Euclidean(v, i, f, m)\n",
    "\n",
    "    g = dict()\n",
    "\n",
    "    for i in range(n):\n",
    "        g[i] = []\n",
    "\n",
    "    for line in edges:\n",
    "        if line[0] != \"#\":\n",
    "            x = line.strip().split(\",\")\n",
    "            g[int(x[0])].append([int(x[2]) + h[int(x[1])], int(x[1]), int(x[2])])\n",
    "            g[int(x[1])].append([int(x[2]) + h[int(x[0])], int(x[0]), int(x[2])])\n",
    "    return g"
   ]
  },
  {
   "cell_type": "code",
   "execution_count": 5,
   "metadata": {},
   "outputs": [],
   "source": [
    "# This function generates path. It appends finish node in path and from end to start search for parent node\n",
    "\n",
    "def gen_path(s, f, path, parent):\n",
    "    path.append(parent[f])\n",
    "    if parent[f] != s:\n",
    "        gen_path(s, parent[f], path, parent)"
   ]
  },
  {
   "cell_type": "code",
   "execution_count": 6,
   "metadata": {},
   "outputs": [],
   "source": [
    "# Search algorithm. UCS and A* behaves same with only 1 difference. A* has heuristic function\n",
    "# For this reason I have implemented A* algorithm with Euclidean distance heuristic.\n",
    "# If we make all heuristics equal to 0, A* becomes UCS.\n",
    "# Simply we add start node to our open list. Then we look for it's successors and continue with the one has least f(n)\n",
    "# When we are done with node we remove it from open list and add to closed list. This continues till open list is empty\n",
    "# Meanwhile, we are also storing parent nodes. If we found finish node while iterating, it means we have found shortest path\n",
    "# If we couldn't find and open list becomes empty, it means there is no path\n",
    "\n",
    "def search(s, f):\n",
    "    graph = gen_graph()\n",
    "    s_time = time.time()\n",
    "    closed_list = []\n",
    "    open_list = []\n",
    "    explored = []\n",
    "    path = [f]\n",
    "    parent = {}\n",
    "    cost = 0\n",
    "    \n",
    "    for i in range(n):\n",
    "        closed_list.append(0)\n",
    "        \n",
    "    heapq.heappush(open_list, (cost, [s, cost, s]))\n",
    "    \n",
    "    while len(open_list) > 0:\n",
    "        c_score, [c_node, c_cost, p_node] = heapq.heappop(open_list)\n",
    "        \n",
    "        if closed_list[c_node] == 0:\n",
    "            explored.append(c_node)\n",
    "            closed_list[c_node] = 1\n",
    "            parent[c_node] = p_node\n",
    "            \n",
    "            if c_node == f:\n",
    "                print(\"PATH FOUND!\\n\")\n",
    "                print(f\"Total Cost  of Shortest Path = {c_cost}\\n\")\n",
    "                \n",
    "                print(f\"Number of Nodes Visited: {len(explored)}\\n\")\n",
    "                print(f\"Visited Nodes in Order:\")\n",
    "                print(explored)\n",
    "                \n",
    "                print(\"\\nPath of Shortest Path from Start to Finish:\")\n",
    "                gen_path(s, f, path, parent)\n",
    "                path.reverse()\n",
    "                print(path)\n",
    "                        \n",
    "                f_time = time.time()\n",
    "                if m.upper() == 'U':\n",
    "                    print(f\"\\nTime taken by UCS: {f_time - s_time} sec\")\n",
    "                elif m.upper() == 'I':\n",
    "                    print(f\"\\nTime taken by A*: {f_time - s_time} sec\")\n",
    "                    \n",
    "                return\n",
    "            else:\n",
    "                    \n",
    "                for item in graph[c_node]:\n",
    "                    heapq.heappush(open_list, (item[0] + c_cost, [item[1], item[2] + c_cost, c_node]))\n",
    "                        \n",
    "    print(\"NO PATH FOUND!\")"
   ]
  },
  {
   "cell_type": "code",
   "execution_count": 7,
   "metadata": {},
   "outputs": [
    {
     "name": "stdout",
     "output_type": "stream",
     "text": [
      "PATH FOUND!\n",
      "\n",
      "Total Cost  of Shortest Path = 5038\n",
      "\n",
      "Number of Nodes Visited: 16\n",
      "\n",
      "Visited Nodes in Order:\n",
      "[1, 64, 55, 14, 27, 28, 56, 21, 24, 88, 23, 8, 96, 82, 47, 99]\n",
      "\n",
      "Path of Shortest Path from Start to Finish:\n",
      "[1, 56, 99]\n",
      "\n",
      "Time taken by A*: 0.0009965896606445312 sec\n"
     ]
    }
   ],
   "source": [
    "# Start node is '1' and Finish node is '99'\n",
    "# It is Informed Search\n",
    "# For testing, change Start/Finish nodes and Search mode\n",
    "\n",
    "if(__name__ == \"__main__\"):\n",
    "    n, s, f, m, file_v, file_e = init(100, 1, 99, 'I', 'v.txt', 'e.txt')\n",
    "    search(s, f)"
   ]
  },
  {
   "cell_type": "code",
   "execution_count": null,
   "metadata": {},
   "outputs": [],
   "source": []
  }
 ],
 "metadata": {
  "kernelspec": {
   "display_name": "Python 3",
   "language": "python",
   "name": "python3"
  },
  "language_info": {
   "codemirror_mode": {
    "name": "ipython",
    "version": 3
   },
   "file_extension": ".py",
   "mimetype": "text/x-python",
   "name": "python",
   "nbconvert_exporter": "python",
   "pygments_lexer": "ipython3",
   "version": "3.8.5"
  }
 },
 "nbformat": 4,
 "nbformat_minor": 4
}
